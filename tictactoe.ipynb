{
  "nbformat": 4,
  "nbformat_minor": 0,
  "metadata": {
    "colab": {
      "name": "timepass1.ipynb",
      "provenance": [],
      "toc_visible": true,
      "authorship_tag": "ABX9TyNve+dyG1VKCAv6+wr01qCw",
      "include_colab_link": true
    },
    "kernelspec": {
      "name": "python3",
      "display_name": "Python 3"
    },
    "language_info": {
      "name": "python"
    }
  },
  "cells": [
    {
      "cell_type": "markdown",
      "metadata": {
        "id": "view-in-github",
        "colab_type": "text"
      },
      "source": [
        "<a href=\"https://colab.research.google.com/github/kan-ny/1pro/blob/master/tictactoe.ipynb\" target=\"_parent\"><img src=\"https://colab.research.google.com/assets/colab-badge.svg\" alt=\"Open In Colab\"/></a>"
      ]
    },
    {
      "cell_type": "markdown",
      "metadata": {
        "id": "OzBQuWuKFYvy"
      },
      "source": [
        "# TIC TAC TOE\n",
        "CAPS input only (caps lock on) \n",
        "\n",
        "*by Nagato | Athreya* "
      ]
    },
    {
      "cell_type": "code",
      "metadata": {
        "id": "aedkX9HyEm78"
      },
      "source": [
        "playon = True\n",
        "matrix = []\n",
        "players = {'X': '', 'O': ''}\n",
        "def player_selection():\n",
        "    p1 = 'wrong'\n",
        "    while p1 not in ['X', 'O']:\n",
        "        p1 = input('Player 1 select X or O: ')\n",
        "    \n",
        "    if p1 == 'X':\n",
        "        players['X'] = 'Player1'\n",
        "        players['O'] = 'Player2' \n",
        "    else:\n",
        "        players['X'] = 'Player2'\n",
        "        players['O'] = 'Player1'\n",
        "    # print('P1 {} P2 {} '.format(p1,p2))\n",
        "\n",
        "def display_board():\n",
        "    print()\n",
        "    for x in range(3):\n",
        "        print( ' {} | {} | {} '.format( matrix[x][0], matrix[x][1], matrix[x][2], ) )\n",
        "        if x != 2:\n",
        "            print ( '___________')\n",
        "        print()\n",
        "        \n",
        "\n",
        "def start_game():\n",
        "    # print(players)\n",
        "    # maximum of nine inputs\n",
        "    match_draw = True\n",
        "    for x in range(9):\n",
        "        choice = ''\n",
        "        val = ''\n",
        "        # valid_input = True\n",
        "        while choice not in range(1, 10):\n",
        "            if x % 2 == 0:\n",
        "                choice = input('{}, Position of X '.format( players['X']))\n",
        "                val = 'X'\n",
        "            else:\n",
        "                choice = input('{}, Position of O '.format( players['O']))\n",
        "                val = 'O'\n",
        "\n",
        "            if not choice.isdigit():\n",
        "                print('ERROR: No string allowed')\n",
        "                continue\n",
        "            choice = int(choice)\n",
        "            if choice not in range(1,10):\n",
        "                print('ERROR: Enter no b/w 1-9')\n",
        "                continue\n",
        "        \n",
        "            i = int((choice-1) / 3)\n",
        "            j = ((choice-1)  % 3)\n",
        "            if matrix[i][j] != ' ':\n",
        "                print('ERROR: Position {} is marked.'.format(choice))\n",
        "                choice = ''\n",
        "                continue\n",
        "            \n",
        "            matrix[i][j] = val\n",
        "        display_board()\n",
        "        if check(val):\n",
        "            print('{} WON :)'.format(players[val]) )\n",
        "            print( 'Athreya congrats you ;)' )\n",
        "            match_draw = False\n",
        "            break\n",
        "    if match_draw:\n",
        "        print('Draw Match.')\n",
        "\n",
        "def check(xo):\n",
        "    winner = False\n",
        "    for x in range(3):\n",
        "        if matrix[x][0] == xo and matrix[x][1] == xo and matrix[x][2] == xo: \n",
        "            winner = True\n",
        "            break\n",
        "        if matrix[0][x] == xo and matrix[1][x] == xo and matrix[2][x] == xo:             \n",
        "            winner = True\n",
        "            break\n",
        "    if matrix[0][0] == xo and matrix[1][1] == xo and matrix[2][2] == xo:\n",
        "        winner = True \n",
        "    if matrix[0][2] == xo and matrix[1][1] == xo and matrix[2][0] == xo:\n",
        "        winner = True\n",
        "    return winner\n",
        "\n",
        "while playon:\n",
        "    player_selection()\n",
        "    matrix = []\n",
        "    for x in range(3):\n",
        "        matrix.append([])\n",
        "        for y in range(3):\n",
        "            matrix[x].append( ' ' )\n",
        "    start_game()\n",
        "\n",
        "\n",
        "    rematch = 'wrong'\n",
        "    while rematch not in ['Y', 'N']:\n",
        "        rematch = input('Rematch Y/N ? ')\n",
        "        if rematch == 'N':\n",
        "            print('Thanks for playing! ')\n",
        "            playon = False\n"
      ],
      "execution_count": null,
      "outputs": []
    }
  ]
}